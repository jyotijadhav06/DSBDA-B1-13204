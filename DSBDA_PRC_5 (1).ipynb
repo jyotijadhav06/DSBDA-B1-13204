{
 "cells": [
  {
   "cell_type": "markdown",
   "id": "565736bf",
   "metadata": {},
   "source": [
    "                        Practical No-5"
   ]
  },
  {
   "cell_type": "markdown",
   "id": "e02408f0",
   "metadata": {},
   "source": [
    "Data Analytics II\n",
    "1. Implement logistic regression using Python/R to perform classification on\n",
    "Social_Network_Ads.csv dataset.\n",
    "2. Compute Confusion matrix to find TP, FP, TN, FN, Accuracy, Error rate, Precision, Recall\n",
    "on the given dataset."
   ]
  },
  {
   "cell_type": "code",
   "execution_count": 1,
   "id": "b88e6f1a",
   "metadata": {},
   "outputs": [],
   "source": [
    "import numpy as np \n",
    "import pandas as pd \n",
    "import matplotlib.pyplot as plt "
   ]
  },
  {
   "cell_type": "code",
   "execution_count": 60,
   "id": "cf18319f",
   "metadata": {},
   "outputs": [],
   "source": [
    "df = pd.read_csv('diabetes (2).csv')"
   ]
  },
  {
   "cell_type": "code",
   "execution_count": 3,
   "id": "407d0c52",
   "metadata": {},
   "outputs": [
    {
     "data": {
      "text/html": [
       "<div>\n",
       "<style scoped>\n",
       "    .dataframe tbody tr th:only-of-type {\n",
       "        vertical-align: middle;\n",
       "    }\n",
       "\n",
       "    .dataframe tbody tr th {\n",
       "        vertical-align: top;\n",
       "    }\n",
       "\n",
       "    .dataframe thead th {\n",
       "        text-align: right;\n",
       "    }\n",
       "</style>\n",
       "<table border=\"1\" class=\"dataframe\">\n",
       "  <thead>\n",
       "    <tr style=\"text-align: right;\">\n",
       "      <th></th>\n",
       "      <th>Pregnancies</th>\n",
       "      <th>Glucose</th>\n",
       "      <th>BloodPressure</th>\n",
       "      <th>SkinThickness</th>\n",
       "      <th>Insulin</th>\n",
       "      <th>BMI</th>\n",
       "      <th>DiabetesPedigreeFunction</th>\n",
       "      <th>Age</th>\n",
       "      <th>Outcome</th>\n",
       "    </tr>\n",
       "  </thead>\n",
       "  <tbody>\n",
       "    <tr>\n",
       "      <th>0</th>\n",
       "      <td>6</td>\n",
       "      <td>148</td>\n",
       "      <td>72</td>\n",
       "      <td>35</td>\n",
       "      <td>0</td>\n",
       "      <td>33.6</td>\n",
       "      <td>0.627</td>\n",
       "      <td>50</td>\n",
       "      <td>1</td>\n",
       "    </tr>\n",
       "    <tr>\n",
       "      <th>1</th>\n",
       "      <td>1</td>\n",
       "      <td>85</td>\n",
       "      <td>66</td>\n",
       "      <td>29</td>\n",
       "      <td>0</td>\n",
       "      <td>26.6</td>\n",
       "      <td>0.351</td>\n",
       "      <td>31</td>\n",
       "      <td>0</td>\n",
       "    </tr>\n",
       "    <tr>\n",
       "      <th>2</th>\n",
       "      <td>8</td>\n",
       "      <td>183</td>\n",
       "      <td>64</td>\n",
       "      <td>0</td>\n",
       "      <td>0</td>\n",
       "      <td>23.3</td>\n",
       "      <td>0.672</td>\n",
       "      <td>32</td>\n",
       "      <td>1</td>\n",
       "    </tr>\n",
       "    <tr>\n",
       "      <th>3</th>\n",
       "      <td>1</td>\n",
       "      <td>89</td>\n",
       "      <td>66</td>\n",
       "      <td>23</td>\n",
       "      <td>94</td>\n",
       "      <td>28.1</td>\n",
       "      <td>0.167</td>\n",
       "      <td>21</td>\n",
       "      <td>0</td>\n",
       "    </tr>\n",
       "    <tr>\n",
       "      <th>4</th>\n",
       "      <td>0</td>\n",
       "      <td>137</td>\n",
       "      <td>40</td>\n",
       "      <td>35</td>\n",
       "      <td>168</td>\n",
       "      <td>43.1</td>\n",
       "      <td>2.288</td>\n",
       "      <td>33</td>\n",
       "      <td>1</td>\n",
       "    </tr>\n",
       "    <tr>\n",
       "      <th>...</th>\n",
       "      <td>...</td>\n",
       "      <td>...</td>\n",
       "      <td>...</td>\n",
       "      <td>...</td>\n",
       "      <td>...</td>\n",
       "      <td>...</td>\n",
       "      <td>...</td>\n",
       "      <td>...</td>\n",
       "      <td>...</td>\n",
       "    </tr>\n",
       "    <tr>\n",
       "      <th>763</th>\n",
       "      <td>10</td>\n",
       "      <td>101</td>\n",
       "      <td>76</td>\n",
       "      <td>48</td>\n",
       "      <td>180</td>\n",
       "      <td>32.9</td>\n",
       "      <td>0.171</td>\n",
       "      <td>63</td>\n",
       "      <td>0</td>\n",
       "    </tr>\n",
       "    <tr>\n",
       "      <th>764</th>\n",
       "      <td>2</td>\n",
       "      <td>122</td>\n",
       "      <td>70</td>\n",
       "      <td>27</td>\n",
       "      <td>0</td>\n",
       "      <td>36.8</td>\n",
       "      <td>0.340</td>\n",
       "      <td>27</td>\n",
       "      <td>0</td>\n",
       "    </tr>\n",
       "    <tr>\n",
       "      <th>765</th>\n",
       "      <td>5</td>\n",
       "      <td>121</td>\n",
       "      <td>72</td>\n",
       "      <td>23</td>\n",
       "      <td>112</td>\n",
       "      <td>26.2</td>\n",
       "      <td>0.245</td>\n",
       "      <td>30</td>\n",
       "      <td>0</td>\n",
       "    </tr>\n",
       "    <tr>\n",
       "      <th>766</th>\n",
       "      <td>1</td>\n",
       "      <td>126</td>\n",
       "      <td>60</td>\n",
       "      <td>0</td>\n",
       "      <td>0</td>\n",
       "      <td>30.1</td>\n",
       "      <td>0.349</td>\n",
       "      <td>47</td>\n",
       "      <td>1</td>\n",
       "    </tr>\n",
       "    <tr>\n",
       "      <th>767</th>\n",
       "      <td>1</td>\n",
       "      <td>93</td>\n",
       "      <td>70</td>\n",
       "      <td>31</td>\n",
       "      <td>0</td>\n",
       "      <td>30.4</td>\n",
       "      <td>0.315</td>\n",
       "      <td>23</td>\n",
       "      <td>0</td>\n",
       "    </tr>\n",
       "  </tbody>\n",
       "</table>\n",
       "<p>768 rows × 9 columns</p>\n",
       "</div>"
      ],
      "text/plain": [
       "     Pregnancies  Glucose  BloodPressure  SkinThickness  Insulin   BMI  \\\n",
       "0              6      148             72             35        0  33.6   \n",
       "1              1       85             66             29        0  26.6   \n",
       "2              8      183             64              0        0  23.3   \n",
       "3              1       89             66             23       94  28.1   \n",
       "4              0      137             40             35      168  43.1   \n",
       "..           ...      ...            ...            ...      ...   ...   \n",
       "763           10      101             76             48      180  32.9   \n",
       "764            2      122             70             27        0  36.8   \n",
       "765            5      121             72             23      112  26.2   \n",
       "766            1      126             60              0        0  30.1   \n",
       "767            1       93             70             31        0  30.4   \n",
       "\n",
       "     DiabetesPedigreeFunction  Age  Outcome  \n",
       "0                       0.627   50        1  \n",
       "1                       0.351   31        0  \n",
       "2                       0.672   32        1  \n",
       "3                       0.167   21        0  \n",
       "4                       2.288   33        1  \n",
       "..                        ...  ...      ...  \n",
       "763                     0.171   63        0  \n",
       "764                     0.340   27        0  \n",
       "765                     0.245   30        0  \n",
       "766                     0.349   47        1  \n",
       "767                     0.315   23        0  \n",
       "\n",
       "[768 rows x 9 columns]"
      ]
     },
     "execution_count": 3,
     "metadata": {},
     "output_type": "execute_result"
    }
   ],
   "source": [
    "df"
   ]
  },
  {
   "cell_type": "code",
   "execution_count": 4,
   "id": "f76ed80a",
   "metadata": {},
   "outputs": [
    {
     "data": {
      "text/plain": [
       "(768, 9)"
      ]
     },
     "execution_count": 4,
     "metadata": {},
     "output_type": "execute_result"
    }
   ],
   "source": [
    "df.shape"
   ]
  },
  {
   "cell_type": "code",
   "execution_count": 5,
   "id": "3a58b968",
   "metadata": {},
   "outputs": [
    {
     "data": {
      "text/html": [
       "<div>\n",
       "<style scoped>\n",
       "    .dataframe tbody tr th:only-of-type {\n",
       "        vertical-align: middle;\n",
       "    }\n",
       "\n",
       "    .dataframe tbody tr th {\n",
       "        vertical-align: top;\n",
       "    }\n",
       "\n",
       "    .dataframe thead th {\n",
       "        text-align: right;\n",
       "    }\n",
       "</style>\n",
       "<table border=\"1\" class=\"dataframe\">\n",
       "  <thead>\n",
       "    <tr style=\"text-align: right;\">\n",
       "      <th></th>\n",
       "      <th>Pregnancies</th>\n",
       "      <th>Glucose</th>\n",
       "      <th>BloodPressure</th>\n",
       "      <th>SkinThickness</th>\n",
       "      <th>Insulin</th>\n",
       "      <th>BMI</th>\n",
       "      <th>DiabetesPedigreeFunction</th>\n",
       "      <th>Age</th>\n",
       "      <th>Outcome</th>\n",
       "    </tr>\n",
       "  </thead>\n",
       "  <tbody>\n",
       "    <tr>\n",
       "      <th>0</th>\n",
       "      <td>6</td>\n",
       "      <td>148</td>\n",
       "      <td>72</td>\n",
       "      <td>35</td>\n",
       "      <td>0</td>\n",
       "      <td>33.6</td>\n",
       "      <td>0.627</td>\n",
       "      <td>50</td>\n",
       "      <td>1</td>\n",
       "    </tr>\n",
       "    <tr>\n",
       "      <th>1</th>\n",
       "      <td>1</td>\n",
       "      <td>85</td>\n",
       "      <td>66</td>\n",
       "      <td>29</td>\n",
       "      <td>0</td>\n",
       "      <td>26.6</td>\n",
       "      <td>0.351</td>\n",
       "      <td>31</td>\n",
       "      <td>0</td>\n",
       "    </tr>\n",
       "    <tr>\n",
       "      <th>2</th>\n",
       "      <td>8</td>\n",
       "      <td>183</td>\n",
       "      <td>64</td>\n",
       "      <td>0</td>\n",
       "      <td>0</td>\n",
       "      <td>23.3</td>\n",
       "      <td>0.672</td>\n",
       "      <td>32</td>\n",
       "      <td>1</td>\n",
       "    </tr>\n",
       "    <tr>\n",
       "      <th>3</th>\n",
       "      <td>1</td>\n",
       "      <td>89</td>\n",
       "      <td>66</td>\n",
       "      <td>23</td>\n",
       "      <td>94</td>\n",
       "      <td>28.1</td>\n",
       "      <td>0.167</td>\n",
       "      <td>21</td>\n",
       "      <td>0</td>\n",
       "    </tr>\n",
       "    <tr>\n",
       "      <th>4</th>\n",
       "      <td>0</td>\n",
       "      <td>137</td>\n",
       "      <td>40</td>\n",
       "      <td>35</td>\n",
       "      <td>168</td>\n",
       "      <td>43.1</td>\n",
       "      <td>2.288</td>\n",
       "      <td>33</td>\n",
       "      <td>1</td>\n",
       "    </tr>\n",
       "  </tbody>\n",
       "</table>\n",
       "</div>"
      ],
      "text/plain": [
       "   Pregnancies  Glucose  BloodPressure  SkinThickness  Insulin   BMI  \\\n",
       "0            6      148             72             35        0  33.6   \n",
       "1            1       85             66             29        0  26.6   \n",
       "2            8      183             64              0        0  23.3   \n",
       "3            1       89             66             23       94  28.1   \n",
       "4            0      137             40             35      168  43.1   \n",
       "\n",
       "   DiabetesPedigreeFunction  Age  Outcome  \n",
       "0                     0.627   50        1  \n",
       "1                     0.351   31        0  \n",
       "2                     0.672   32        1  \n",
       "3                     0.167   21        0  \n",
       "4                     2.288   33        1  "
      ]
     },
     "execution_count": 5,
     "metadata": {},
     "output_type": "execute_result"
    }
   ],
   "source": [
    "df.head()"
   ]
  },
  {
   "cell_type": "code",
   "execution_count": 7,
   "id": "3a2390a3",
   "metadata": {},
   "outputs": [
    {
     "name": "stdout",
     "output_type": "stream",
     "text": [
      "<class 'pandas.core.frame.DataFrame'>\n",
      "RangeIndex: 768 entries, 0 to 767\n",
      "Data columns (total 9 columns):\n",
      " #   Column                    Non-Null Count  Dtype  \n",
      "---  ------                    --------------  -----  \n",
      " 0   Pregnancies               768 non-null    int64  \n",
      " 1   Glucose                   768 non-null    int64  \n",
      " 2   BloodPressure             768 non-null    int64  \n",
      " 3   SkinThickness             768 non-null    int64  \n",
      " 4   Insulin                   768 non-null    int64  \n",
      " 5   BMI                       768 non-null    float64\n",
      " 6   DiabetesPedigreeFunction  768 non-null    float64\n",
      " 7   Age                       768 non-null    int64  \n",
      " 8   Outcome                   768 non-null    int64  \n",
      "dtypes: float64(2), int64(7)\n",
      "memory usage: 54.1 KB\n"
     ]
    }
   ],
   "source": [
    "df.info()"
   ]
  },
  {
   "cell_type": "code",
   "execution_count": 8,
   "id": "1505b763",
   "metadata": {},
   "outputs": [
    {
     "data": {
      "text/html": [
       "<div>\n",
       "<style scoped>\n",
       "    .dataframe tbody tr th:only-of-type {\n",
       "        vertical-align: middle;\n",
       "    }\n",
       "\n",
       "    .dataframe tbody tr th {\n",
       "        vertical-align: top;\n",
       "    }\n",
       "\n",
       "    .dataframe thead th {\n",
       "        text-align: right;\n",
       "    }\n",
       "</style>\n",
       "<table border=\"1\" class=\"dataframe\">\n",
       "  <thead>\n",
       "    <tr style=\"text-align: right;\">\n",
       "      <th></th>\n",
       "      <th>Pregnancies</th>\n",
       "      <th>Glucose</th>\n",
       "      <th>BloodPressure</th>\n",
       "      <th>SkinThickness</th>\n",
       "      <th>Insulin</th>\n",
       "      <th>BMI</th>\n",
       "      <th>DiabetesPedigreeFunction</th>\n",
       "      <th>Age</th>\n",
       "      <th>Outcome</th>\n",
       "    </tr>\n",
       "  </thead>\n",
       "  <tbody>\n",
       "    <tr>\n",
       "      <th>763</th>\n",
       "      <td>10</td>\n",
       "      <td>101</td>\n",
       "      <td>76</td>\n",
       "      <td>48</td>\n",
       "      <td>180</td>\n",
       "      <td>32.9</td>\n",
       "      <td>0.171</td>\n",
       "      <td>63</td>\n",
       "      <td>0</td>\n",
       "    </tr>\n",
       "    <tr>\n",
       "      <th>764</th>\n",
       "      <td>2</td>\n",
       "      <td>122</td>\n",
       "      <td>70</td>\n",
       "      <td>27</td>\n",
       "      <td>0</td>\n",
       "      <td>36.8</td>\n",
       "      <td>0.340</td>\n",
       "      <td>27</td>\n",
       "      <td>0</td>\n",
       "    </tr>\n",
       "    <tr>\n",
       "      <th>765</th>\n",
       "      <td>5</td>\n",
       "      <td>121</td>\n",
       "      <td>72</td>\n",
       "      <td>23</td>\n",
       "      <td>112</td>\n",
       "      <td>26.2</td>\n",
       "      <td>0.245</td>\n",
       "      <td>30</td>\n",
       "      <td>0</td>\n",
       "    </tr>\n",
       "    <tr>\n",
       "      <th>766</th>\n",
       "      <td>1</td>\n",
       "      <td>126</td>\n",
       "      <td>60</td>\n",
       "      <td>0</td>\n",
       "      <td>0</td>\n",
       "      <td>30.1</td>\n",
       "      <td>0.349</td>\n",
       "      <td>47</td>\n",
       "      <td>1</td>\n",
       "    </tr>\n",
       "    <tr>\n",
       "      <th>767</th>\n",
       "      <td>1</td>\n",
       "      <td>93</td>\n",
       "      <td>70</td>\n",
       "      <td>31</td>\n",
       "      <td>0</td>\n",
       "      <td>30.4</td>\n",
       "      <td>0.315</td>\n",
       "      <td>23</td>\n",
       "      <td>0</td>\n",
       "    </tr>\n",
       "  </tbody>\n",
       "</table>\n",
       "</div>"
      ],
      "text/plain": [
       "     Pregnancies  Glucose  BloodPressure  SkinThickness  Insulin   BMI  \\\n",
       "763           10      101             76             48      180  32.9   \n",
       "764            2      122             70             27        0  36.8   \n",
       "765            5      121             72             23      112  26.2   \n",
       "766            1      126             60              0        0  30.1   \n",
       "767            1       93             70             31        0  30.4   \n",
       "\n",
       "     DiabetesPedigreeFunction  Age  Outcome  \n",
       "763                     0.171   63        0  \n",
       "764                     0.340   27        0  \n",
       "765                     0.245   30        0  \n",
       "766                     0.349   47        1  \n",
       "767                     0.315   23        0  "
      ]
     },
     "execution_count": 8,
     "metadata": {},
     "output_type": "execute_result"
    }
   ],
   "source": [
    "df.tail()"
   ]
  },
  {
   "cell_type": "code",
   "execution_count": 10,
   "id": "3a3c821b",
   "metadata": {},
   "outputs": [
    {
     "name": "stdout",
     "output_type": "stream",
     "text": [
      "[[72 35]\n",
      " [66 29]\n",
      " [64  0]]\n",
      "---------------\n",
      "[0 0 0]\n"
     ]
    }
   ],
   "source": [
    "X = df.iloc[:, [2, 3]].values\n",
    "y = df.iloc[:, 4].values\n",
    "\n",
    "print(X[:3, :])\n",
    "print('-'*15)\n",
    "print(y[:3])"
   ]
  },
  {
   "cell_type": "code",
   "execution_count": 11,
   "id": "c8c194fa",
   "metadata": {},
   "outputs": [
    {
     "name": "stdout",
     "output_type": "stream",
     "text": [
      "[[62  0]\n",
      " [58 36]\n",
      " [80  0]]\n",
      "---------------\n",
      "[ 0 94  0]\n",
      "---------------\n",
      "[[76 43]\n",
      " [74 30]\n",
      " [62  0]]\n",
      "---------------\n",
      "[  0 100   0]\n"
     ]
    }
   ],
   "source": [
    "from sklearn.model_selection import train_test_split\n",
    "X_train, X_test, y_train, y_test = train_test_split(X, y, test_size = 0.25, random_state = 0)\n",
    "\n",
    "print(X_train[:3])\n",
    "print('-'*15)\n",
    "print(y_train[:3])\n",
    "print('-'*15)\n",
    "print(X_test[:3])\n",
    "print('-'*15)\n",
    "print(y_test[:3])"
   ]
  },
  {
   "cell_type": "code",
   "execution_count": 34,
   "id": "4e6662c5",
   "metadata": {},
   "outputs": [],
   "source": [
    "from sklearn.preprocessing import StandardScaler\n",
    "sc_X = StandardScaler()\n",
    "X_train = sc_X.fit_transform(X_train)\n",
    "X_test = sc_X.transform(X_test)"
   ]
  },
  {
   "cell_type": "code",
   "execution_count": 13,
   "id": "9e482185",
   "metadata": {},
   "outputs": [
    {
     "name": "stdout",
     "output_type": "stream",
     "text": [
      "[[-0.40451932 -1.31921491]\n",
      " [-0.61509602  0.9287299 ]\n",
      " [ 0.54307587 -1.31921491]]\n",
      "---------------\n",
      "[[ 0.33249916  1.36583027]\n",
      " [ 0.2272108   0.55407243]\n",
      " [-0.40451932 -1.31921491]]\n"
     ]
    }
   ],
   "source": [
    "print(X_train[:3])\n",
    "print('-'*15)\n",
    "print(X_test[:3])"
   ]
  },
  {
   "cell_type": "code",
   "execution_count": 14,
   "id": "d2b9c903",
   "metadata": {},
   "outputs": [
    {
     "name": "stdout",
     "output_type": "stream",
     "text": [
      "[[ 0.33249916  1.36583027]\n",
      " [ 0.2272108   0.55407243]\n",
      " [-0.40451932 -1.31921491]\n",
      " [ 0.12192245 -0.13279959]\n",
      " [-0.24658679 -1.31921491]\n",
      " [ 0.12192245 -0.19524251]\n",
      " [ 0.43778751  0.80384407]\n",
      " [ 0.85894093  0.3667437 ]\n",
      " [-0.61509602  0.17941496]\n",
      " [ 0.12192245  0.67895825]]\n",
      "---------------\n",
      "[0 0 0 0 0 0 0 0 0 0]\n"
     ]
    }
   ],
   "source": [
    "from sklearn.linear_model import LogisticRegression\n",
    "classifier = LogisticRegression(random_state = 0, solver='lbfgs' )\n",
    "classifier.fit(X_train, y_train)\n",
    "y_pred = classifier.predict(X_test)\n",
    "\n",
    "print(X_test[:10])\n",
    "print('-'*15)\n",
    "print(y_pred[:10])"
   ]
  },
  {
   "cell_type": "code",
   "execution_count": 58,
   "id": "d33c5ff6",
   "metadata": {},
   "outputs": [
    {
     "data": {
      "text/plain": [
       "array([[-0.40451932, -1.31921491],\n",
       "       [-0.61509602,  0.9287299 ],\n",
       "       [ 0.54307587, -1.31921491],\n",
       "       ...,\n",
       "       [-0.24658679,  0.05452914],\n",
       "       [ 0.2272108 , -1.31921491],\n",
       "       [ 0.64836422, -1.31921491]])"
      ]
     },
     "execution_count": 58,
     "metadata": {},
     "output_type": "execute_result"
    }
   ],
   "source": [
    "X_train"
   ]
  },
  {
   "cell_type": "code",
   "execution_count": 57,
   "id": "2f0778c4",
   "metadata": {},
   "outputs": [
    {
     "data": {
      "text/plain": [
       "array([[ 0.33249916,  1.36583027],\n",
       "       [ 0.2272108 ,  0.55407243],\n",
       "       [-0.40451932, -1.31921491],\n",
       "       [ 0.12192245, -0.13279959],\n",
       "       [-0.24658679, -1.31921491],\n",
       "       [ 0.12192245, -0.19524251],\n",
       "       [ 0.43778751,  0.80384407],\n",
       "       [ 0.85894093,  0.3667437 ],\n",
       "       [-0.61509602,  0.17941496],\n",
       "       [ 0.12192245,  0.67895825],\n",
       "       [ 0.33249916,  0.9287299 ],\n",
       "       [ 0.33249916,  0.3667437 ],\n",
       "       [ 0.2272108 , -1.31921491],\n",
       "       [-0.93096108,  0.05452914],\n",
       "       [ 0.12192245,  0.11697205],\n",
       "       [-0.08865426, -0.07035668],\n",
       "       [ 0.12192245,  1.30338736],\n",
       "       [-1.03624944, -0.69478579],\n",
       "       [ 0.85894093,  0.61651534],\n",
       "       [-0.82567273,  0.42918661],\n",
       "       [ 0.64836422,  0.67895825],\n",
       "       [ 0.54307587, -1.31921491],\n",
       "       [-3.66845828,  0.11697205],\n",
       "       [ 0.64836422,  0.42918661],\n",
       "       [-0.19394261, -0.38257124],\n",
       "       [-0.50980767,  0.67895825],\n",
       "       [ 0.33249916, -1.31921491],\n",
       "       [ 0.96422928,  0.99117281],\n",
       "       [-0.19394261,  0.05452914],\n",
       "       [-0.08865426, -1.31921491],\n",
       "       [ 0.2272108 ,  0.30430078],\n",
       "       [-0.29923096,  1.55315901],\n",
       "       [ 0.85894093, -0.25768542],\n",
       "       [-0.93096108,  1.36583027],\n",
       "       [-0.82567273, -0.50745706],\n",
       "       [-0.29923096, -1.31921491],\n",
       "       [ 0.75365257,  0.86628699],\n",
       "       [ 1.06951763, -0.13279959],\n",
       "       [-1.3521145 ,  1.61560192],\n",
       "       [-0.29923096,  0.24185787],\n",
       "       [-0.29923096, -0.19524251],\n",
       "       [ 0.43778751, -1.31921491],\n",
       "       [-0.50980767, -0.13279959],\n",
       "       [ 0.0166341 ,  0.61651534],\n",
       "       [ 0.0166341 ,  1.4907161 ],\n",
       "       [ 0.27985498,  0.11697205],\n",
       "       [-0.40451932,  0.67895825],\n",
       "       [-0.29923096,  0.49162952],\n",
       "       [-0.29923096,  1.42827319],\n",
       "       [ 0.54307587, -1.31921491],\n",
       "       [-0.08865426, -1.31921491],\n",
       "       [-0.93096108,  0.30430078],\n",
       "       [ 0.0166341 ,  1.17850154],\n",
       "       [ 1.06951763,  1.24094445],\n",
       "       [-0.08865426,  0.67895825],\n",
       "       [-1.14153779, -0.07035668],\n",
       "       [-0.19394261,  0.49162952],\n",
       "       [ 1.49067105, -1.31921491],\n",
       "       [ 0.0166341 , -1.31921491],\n",
       "       [-3.66845828, -1.31921491],\n",
       "       [ 1.91182446,  1.55315901],\n",
       "       [ 0.2272108 ,  0.24185787],\n",
       "       [-0.08865426, -1.31921491],\n",
       "       [-3.66845828, -1.31921491],\n",
       "       [ 0.2272108 , -1.31921491],\n",
       "       [ 0.2272108 , -1.31921491],\n",
       "       [ 0.96422928, -1.31921491],\n",
       "       [ 0.43778751, -1.31921491],\n",
       "       [-0.93096108, -1.31921491],\n",
       "       [ 0.43778751,  0.24185787],\n",
       "       [-0.29923096, -1.31921491],\n",
       "       [-3.66845828, -1.31921491],\n",
       "       [-0.08865426,  0.67895825],\n",
       "       [ 1.28009434, -1.31921491],\n",
       "       [ 0.12192245, -1.31921491],\n",
       "       [ 0.75365257, -1.31921491],\n",
       "       [ 1.91182446,  0.11697205],\n",
       "       [ 0.2272108 ,  0.67895825],\n",
       "       [ 0.85894093, -0.13279959],\n",
       "       [ 0.0166341 ,  1.17850154],\n",
       "       [ 0.33249916, -1.31921491],\n",
       "       [ 0.2272108 ,  1.80293065],\n",
       "       [ 0.2272108 ,  0.49162952],\n",
       "       [-0.29923096, -0.13279959],\n",
       "       [-0.50980767,  0.67895825],\n",
       "       [ 0.54307587, -1.31921491],\n",
       "       [-0.82567273, -1.31921491],\n",
       "       [-2.08913297,  1.05361572],\n",
       "       [ 0.75365257, -0.00791377],\n",
       "       [ 0.0166341 ,  0.3667437 ],\n",
       "       [ 0.2272108 ,  0.9287299 ],\n",
       "       [ 0.75365257, -1.31921491],\n",
       "       [-1.03624944, -0.69478579],\n",
       "       [ 0.54307587, -0.63234288],\n",
       "       [ 0.64836422,  1.36583027],\n",
       "       [-0.61509602,  0.61651534],\n",
       "       [ 0.33249916,  0.67895825],\n",
       "       [ 0.64836422,  1.11605863],\n",
       "       [ 0.12192245,  1.61560192],\n",
       "       [ 0.12192245, -1.31921491],\n",
       "       [ 0.54307587,  0.80384407],\n",
       "       [-0.93096108, -0.38257124],\n",
       "       [ 1.17480599, -1.31921491],\n",
       "       [-0.19394261, -0.50745706],\n",
       "       [-0.29923096,  1.30338736],\n",
       "       [ 0.0166341 , -1.31921491],\n",
       "       [ 0.85894093,  0.3667437 ],\n",
       "       [ 0.0166341 ,  1.05361572],\n",
       "       [ 0.54307587, -0.63234288],\n",
       "       [-0.29923096, -1.31921491],\n",
       "       [-0.61509602,  0.30430078],\n",
       "       [ 0.64836422,  0.67895825],\n",
       "       [-0.19394261, -1.31921491],\n",
       "       [ 1.49067105,  1.24094445],\n",
       "       [ 0.75365257,  0.74140116],\n",
       "       [ 0.85894093, -1.31921491],\n",
       "       [-0.40451932, -0.69478579],\n",
       "       [-1.03624944, -0.32012833],\n",
       "       [ 0.85894093, -0.13279959],\n",
       "       [ 0.54307587,  0.99117281],\n",
       "       [ 0.43778751,  1.17850154],\n",
       "       [ 2.01711282,  0.99117281],\n",
       "       [-0.19394261,  1.11605863],\n",
       "       [ 0.43778751, -0.25768542],\n",
       "       [ 0.2272108 ,  0.05452914],\n",
       "       [-0.50980767, -1.31921491],\n",
       "       [ 0.96422928, -0.63234288],\n",
       "       [ 0.2272108 ,  0.49162952],\n",
       "       [-0.82567273, -1.31921491],\n",
       "       [ 0.96422928, -1.31921491],\n",
       "       [-0.29923096,  0.86628699],\n",
       "       [-3.66845828, -1.31921491],\n",
       "       [-0.50980767,  0.05452914],\n",
       "       [-0.08865426,  1.74048774],\n",
       "       [-0.29923096,  0.24185787],\n",
       "       [ 0.33249916,  0.99117281],\n",
       "       [-1.03624944, -0.13279959],\n",
       "       [-0.19394261,  0.67895825],\n",
       "       [-3.66845828, -1.31921491],\n",
       "       [-0.82567273, -1.31921491],\n",
       "       [-0.61509602, -0.32012833],\n",
       "       [ 0.12192245,  0.49162952],\n",
       "       [-0.61509602, -1.31921491],\n",
       "       [ 0.43778751, -1.31921491],\n",
       "       [-0.19394261, -1.31921491],\n",
       "       [-0.61509602, -0.69478579],\n",
       "       [-0.19394261, -0.00791377],\n",
       "       [-0.19394261,  0.55407243],\n",
       "       [-0.08865426, -0.00791377],\n",
       "       [ 0.54307587,  1.4907161 ],\n",
       "       [-0.61509602,  0.05452914],\n",
       "       [ 0.85894093, -1.31921491],\n",
       "       [ 0.2272108 , -0.38257124],\n",
       "       [ 0.12192245,  0.55407243],\n",
       "       [ 0.43778751,  0.49162952],\n",
       "       [-0.50980767,  0.11697205],\n",
       "       [ 1.06951763,  0.74140116],\n",
       "       [-0.72038438, -0.00791377],\n",
       "       [-3.66845828, -1.31921491],\n",
       "       [-3.66845828, -1.31921491],\n",
       "       [-0.08865426,  0.11697205],\n",
       "       [ 0.43778751, -1.31921491],\n",
       "       [-1.14153779, -0.19524251],\n",
       "       [-0.50980767, -0.19524251],\n",
       "       [ 0.0166341 , -1.31921491],\n",
       "       [-3.66845828, -1.31921491],\n",
       "       [-0.50980767, -1.31921491],\n",
       "       [-0.50980767, -1.31921491],\n",
       "       [-0.61509602, -1.31921491],\n",
       "       [ 1.06951763, -1.31921491],\n",
       "       [-2.40499803, -0.13279959],\n",
       "       [ 0.0166341 ,  1.17850154],\n",
       "       [ 0.2272108 , -1.31921491],\n",
       "       [ 0.2272108 , -1.31921491],\n",
       "       [ 0.54307587, -0.38257124],\n",
       "       [ 0.0166341 ,  0.67895825],\n",
       "       [ 0.12192245, -1.31921491],\n",
       "       [ 0.64836422,  1.24094445],\n",
       "       [ 0.33249916, -0.07035668],\n",
       "       [-0.29923096,  0.17941496],\n",
       "       [ 0.64836422, -1.31921491],\n",
       "       [ 2.33297788, -1.31921491],\n",
       "       [-0.24658679,  0.42918661],\n",
       "       [-0.19394261,  1.11605863],\n",
       "       [ 0.0166341 , -1.31921491],\n",
       "       [-0.40451932, -1.31921491],\n",
       "       [-3.66845828, -1.31921491],\n",
       "       [ 0.12192245, -1.31921491],\n",
       "       [-0.61509602,  0.74140116],\n",
       "       [-0.50980767, -0.81967162],\n",
       "       [ 0.43778751, -1.31921491],\n",
       "       [ 0.43778751,  0.55407243]])"
      ]
     },
     "execution_count": 57,
     "metadata": {},
     "output_type": "execute_result"
    }
   ],
   "source": [
    "X_test"
   ]
  },
  {
   "cell_type": "code",
   "execution_count": 15,
   "id": "9bc106fd",
   "metadata": {},
   "outputs": [
    {
     "name": "stdout",
     "output_type": "stream",
     "text": [
      "[0 0 0 0 0 0 0 0 0 0 0 0 0 0 0 0 0 0 0 0]\n",
      "[  0 100   0 175   0  40 171 156 275 190 245 207   0 115   0   0 130   0\n",
      "   0  83]\n"
     ]
    }
   ],
   "source": [
    "print(y_pred[:20])\n",
    "print(y_test[:20])"
   ]
  },
  {
   "cell_type": "code",
   "execution_count": 16,
   "id": "55132c8f",
   "metadata": {},
   "outputs": [
    {
     "name": "stdout",
     "output_type": "stream",
     "text": [
      "[[104   0   0 ...   0   0   0]\n",
      " [  1   0   0 ...   0   0   0]\n",
      " [  1   0   0 ...   0   0   0]\n",
      " ...\n",
      " [  1   0   0 ...   0   0   0]\n",
      " [  1   0   0 ...   0   0   0]\n",
      " [  1   0   0 ...   0   0   0]]\n"
     ]
    }
   ],
   "source": [
    "from sklearn.metrics import confusion_matrix\n",
    "cm = confusion_matrix(y_test, y_pred)\n",
    "print(cm)"
   ]
  },
  {
   "cell_type": "code",
   "execution_count": 19,
   "id": "260a42d0",
   "metadata": {},
   "outputs": [
    {
     "data": {
      "text/plain": [
       "Pregnancies                 0\n",
       "Glucose                     0\n",
       "BloodPressure               0\n",
       "SkinThickness               0\n",
       "Insulin                     0\n",
       "BMI                         0\n",
       "DiabetesPedigreeFunction    0\n",
       "Age                         0\n",
       "Outcome                     0\n",
       "dtype: int64"
      ]
     },
     "execution_count": 19,
     "metadata": {},
     "output_type": "execute_result"
    }
   ],
   "source": [
    "df.isna().sum()"
   ]
  },
  {
   "cell_type": "code",
   "execution_count": 22,
   "id": "ab0b63b1",
   "metadata": {},
   "outputs": [],
   "source": [
    "import seaborn as sns"
   ]
  },
  {
   "cell_type": "code",
   "execution_count": 24,
   "id": "aa8e34cb",
   "metadata": {},
   "outputs": [
    {
     "data": {
      "image/png": "[encoded data removed]",
      "text/plain": [
       "<Figure size 432x288 with 1 Axes>"
      ]
     },
     "metadata": {
      "needs_background": "light"
     },
     "output_type": "display_data"
    }
   ],
   "source": [
    "histplot = sns.histplot(df['Age'], kde=True, bins=30, color='red', alpha=0.3)\n",
    "for i in histplot.containers:\n",
    "    histplot.bar_label(i,)\n",
    "plt.show()"
   ]
  },
  {
   "cell_type": "code",
   "execution_count": 25,
   "id": "d46845cc",
   "metadata": {},
   "outputs": [
    {
     "data": {
      "image/png": "[encoded data removed]",
      "text/plain": [
       "<Figure size 432x288 with 1 Axes>"
      ]
     },
     "metadata": {
      "needs_background": "light"
     },
     "output_type": "display_data"
    }
   ],
   "source": [
    "histplot = sns.histplot(df['BloodPressure'], kde=True, bins=30, color='red', alpha=0.3)\n",
    "for i in histplot.containers:\n",
    "    histplot.bar_label(i,)\n",
    "plt.show()"
   ]
  },
  {
   "cell_type": "code",
   "execution_count": 29,
   "id": "4ccb4089",
   "metadata": {},
   "outputs": [
    {
     "data": {
      "text/plain": [
       "1     135\n",
       "0     111\n",
       "2     103\n",
       "3      75\n",
       "4      68\n",
       "5      57\n",
       "6      50\n",
       "7      45\n",
       "8      38\n",
       "9      28\n",
       "10     24\n",
       "11     11\n",
       "13     10\n",
       "12      9\n",
       "14      2\n",
       "15      1\n",
       "17      1\n",
       "Name: Pregnancies, dtype: int64"
      ]
     },
     "execution_count": 29,
     "metadata": {},
     "output_type": "execute_result"
    }
   ],
   "source": [
    "df[\"Pregnancies\"].value_counts()"
   ]
  },
  {
   "cell_type": "code",
   "execution_count": 30,
   "id": "befe3cf1",
   "metadata": {},
   "outputs": [
    {
     "name": "stderr",
     "output_type": "stream",
     "text": [
      "C:\\ProgramData\\Anaconda3\\lib\\site-packages\\seaborn\\_decorators.py:36: FutureWarning: Pass the following variable as a keyword arg: x. From version 0.12, the only valid positional argument will be `data`, and passing other arguments without an explicit keyword will result in an error or misinterpretation.\n",
      "  warnings.warn(\n"
     ]
    },
    {
     "data": {
      "image/png": "[encoded data removed]",
      "text/plain": [
       "<Figure size 432x288 with 1 Axes>"
      ]
     },
     "metadata": {
      "needs_background": "light"
     },
     "output_type": "display_data"
    }
   ],
   "source": [
    "countplot = sns.countplot(df[\"Pregnancies\"])\n",
    "for i in countplot.containers:\n",
    "    countplot.bar_label(i,)\n",
    "plt.show()"
   ]
  },
  {
   "cell_type": "code",
   "execution_count": 32,
   "id": "d6237ef8",
   "metadata": {},
   "outputs": [],
   "source": [
    "model = LogisticRegression(n_jobs=-1)"
   ]
  },
  {
   "cell_type": "code",
   "execution_count": 35,
   "id": "e567b51a",
   "metadata": {},
   "outputs": [
    {
     "data": {
      "text/plain": [
       "LogisticRegression(n_jobs=-1)"
      ]
     },
     "execution_count": 35,
     "metadata": {},
     "output_type": "execute_result"
    }
   ],
   "source": [
    "model.fit(X_train, y_train)"
   ]
  },
  {
   "cell_type": "code",
   "execution_count": 36,
   "id": "50ed60d9",
   "metadata": {},
   "outputs": [],
   "source": [
    "y_pred = model.predict(X_test)"
   ]
  },
  {
   "cell_type": "code",
   "execution_count": 37,
   "id": "8083b3ea",
   "metadata": {},
   "outputs": [
    {
     "name": "stdout",
     "output_type": "stream",
     "text": [
      "[[104   0   0 ...   0   0   0]\n",
      " [  1   0   0 ...   0   0   0]\n",
      " [  1   0   0 ...   0   0   0]\n",
      " ...\n",
      " [  1   0   0 ...   0   0   0]\n",
      " [  1   0   0 ...   0   0   0]\n",
      " [  1   0   0 ...   0   0   0]]\n"
     ]
    }
   ],
   "source": [
    "cm = confusion_matrix(y_test, y_pred)\n",
    "print(cm)"
   ]
  },
  {
   "cell_type": "code",
   "execution_count": 43,
   "id": "7ce7b4f4",
   "metadata": {},
   "outputs": [
    {
     "name": "stdout",
     "output_type": "stream",
     "text": [
      "\n",
      "Confusion Matrix:\n",
      " [[104   0   0 ...   0   0   0]\n",
      " [  1   0   0 ...   0   0   0]\n",
      " [  1   0   0 ...   0   0   0]\n",
      " ...\n",
      " [  1   0   0 ...   0   0   0]\n",
      " [  1   0   0 ...   0   0   0]\n",
      " [  1   0   0 ...   0   0   0]]\n"
     ]
    }
   ],
   "source": [
    "cm = confusion_matrix(y_test, y_pred)\n",
    "print(\"\\nConfusion Matrix:\\n\", cm)"
   ]
  },
  {
   "cell_type": "code",
   "execution_count": 51,
   "id": "2cc50554",
   "metadata": {},
   "outputs": [],
   "source": [
    "TP = cm[1, 1]"
   ]
  },
  {
   "cell_type": "code",
   "execution_count": 52,
   "id": "3b1ea626",
   "metadata": {},
   "outputs": [],
   "source": [
    "FP = cm[0, 1]"
   ]
  },
  {
   "cell_type": "code",
   "execution_count": 53,
   "id": "44a67836",
   "metadata": {},
   "outputs": [],
   "source": [
    "TN = cm[0, 0]"
   ]
  },
  {
   "cell_type": "code",
   "execution_count": 54,
   "id": "b49bc741",
   "metadata": {},
   "outputs": [],
   "source": [
    "FN = cm[1, 0]"
   ]
  },
  {
   "cell_type": "code",
   "execution_count": 45,
   "id": "50fef628",
   "metadata": {},
   "outputs": [],
   "source": [
    "import pandas as pd\n",
    "from sklearn.model_selection import train_test_split\n",
    "from sklearn.naive_bayes import GaussianNB\n",
    "from sklearn.metrics import confusion_matrix, accuracy_score, precision_score, recall_score"
   ]
  },
  {
   "cell_type": "code",
   "execution_count": 46,
   "id": "5182b9ec",
   "metadata": {},
   "outputs": [
    {
     "name": "stdout",
     "output_type": "stream",
     "text": [
      "\n",
      "Accuracy:  0.5416666666666666\n"
     ]
    }
   ],
   "source": [
    "accuracy = accuracy_score(y_test, y_pred)\n",
    "print(\"\\nAccuracy: \", accuracy)"
   ]
  },
  {
   "cell_type": "code",
   "execution_count": 47,
   "id": "350703a2",
   "metadata": {},
   "outputs": [
    {
     "name": "stdout",
     "output_type": "stream",
     "text": [
      "\n",
      "Error Rate:  0.45833333333333337\n"
     ]
    }
   ],
   "source": [
    "error_rate = 1 - accuracy\n",
    "print(\"\\nError Rate: \", error_rate)"
   ]
  },
  {
   "cell_type": "code",
   "execution_count": 48,
   "id": "2ff0e7ac",
   "metadata": {},
   "outputs": [
    {
     "name": "stdout",
     "output_type": "stream",
     "text": [
      "\n",
      "Precision (weighted):  0.29340277777777773\n"
     ]
    },
    {
     "name": "stderr",
     "output_type": "stream",
     "text": [
      "C:\\ProgramData\\Anaconda3\\lib\\site-packages\\sklearn\\metrics\\_classification.py:1248: UndefinedMetricWarning: Precision is ill-defined and being set to 0.0 in labels with no predicted samples. Use `zero_division` parameter to control this behavior.\n",
      "  _warn_prf(average, modifier, msg_start, len(result))\n"
     ]
    }
   ],
   "source": [
    "precision = precision_score(y_test, y_pred, average='weighted')\n",
    "print(\"\\nPrecision (weighted): \", precision)"
   ]
  },
  {
   "cell_type": "code",
   "execution_count": 49,
   "id": "58ff15c9",
   "metadata": {},
   "outputs": [
    {
     "name": "stdout",
     "output_type": "stream",
     "text": [
      "\n",
      "Recall (weighted):  0.5416666666666666\n"
     ]
    }
   ],
   "source": [
    "recall = recall_score(y_test, y_pred, average='weighted')\n",
    "print(\"\\nRecall (weighted): \", recall)"
   ]
  },
  {
   "cell_type": "code",
   "execution_count": 55,
   "id": "3e825814",
   "metadata": {},
   "outputs": [
    {
     "name": "stdout",
     "output_type": "stream",
     "text": [
      "\n",
      "TP: 0, FP: 0, TN: 104, FN: 1\n"
     ]
    }
   ],
   "source": [
    "print(f\"\\nTP: {TP}, FP: {FP}, TN: {TN}, FN: {FN}\")"
   ]
  },
  {
   "cell_type": "markdown",
   "id": "511f6814",
   "metadata": {},
   "source": [
    "Name - Jyoti Jadhav\n",
    "\n",
    "Roll_no-13204"
   ]
  }
 ],
 "metadata": {
  "kernelspec": {
   "display_name": "Python 3 (ipykernel)",
   "language": "python",
   "name": "python3"
  },
  "language_info": {
   "codemirror_mode": {
    "name": "ipython",
    "version": 3
   },
   "file_extension": ".py",
   "mimetype": "text/x-python",
   "name": "python",
   "nbconvert_exporter": "python",
   "pygments_lexer": "ipython3",
   "version": "3.9.7"
  }
 },
 "nbformat": 4,
 "nbformat_minor": 5
}
