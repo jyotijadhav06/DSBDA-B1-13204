{
 "cells": [
  {
   "cell_type": "code",
   "execution_count": 1,
   "id": "e3d4ba3d-bda6-4c97-8381-04a00b55ed18",
   "metadata": {},
   "outputs": [],
   "source": [
    "import numpy as np\n",
    "import matplotlib.pyplot as plt\n",
    "import pandas as pd\n",
    "from pandas import DataFrame, Series"
   ]
  },
  {
   "cell_type": "code",
   "execution_count": 2,
   "id": "bab6315c-0236-4dda-9921-b2202036c246",
   "metadata": {},
   "outputs": [],
   "source": [
    "import seaborn as sns"
   ]
  },
  {
   "cell_type": "code",
   "execution_count": 5,
   "id": "f18c0788-437e-4551-9990-9bec45a956e4",
   "metadata": {},
   "outputs": [
    {
     "data": {
      "text/plain": [
       "['anagrams',\n",
       " 'anscombe',\n",
       " 'attention',\n",
       " 'brain_networks',\n",
       " 'car_crashes',\n",
       " 'diamonds',\n",
       " 'dots',\n",
       " 'dowjones',\n",
       " 'exercise',\n",
       " 'flights',\n",
       " 'fmri',\n",
       " 'geyser',\n",
       " 'glue',\n",
       " 'healthexp',\n",
       " 'iris',\n",
       " 'mpg',\n",
       " 'penguins',\n",
       " 'planets',\n",
       " 'seaice',\n",
       " 'taxis',\n",
       " 'tips',\n",
       " 'titanic']"
      ]
     },
     "execution_count": 5,
     "metadata": {},
     "output_type": "execute_result"
    }
   ],
   "source": [
    "sns.get_dataset_names()"
   ]
  },
  {
   "cell_type": "code",
   "execution_count": 6,
   "id": "69a185a1-0dbe-4dc4-9073-861475348a97",
   "metadata": {},
   "outputs": [],
   "source": [
    "data = sns.load_dataset(\"iris\")"
   ]
  },
  {
   "cell_type": "code",
   "execution_count": 8,
   "id": "93229f54-24f2-490b-baff-e3e116082215",
   "metadata": {},
   "outputs": [
    {
     "name": "stdout",
     "output_type": "stream",
     "text": [
      "     sepal_length  sepal_width  petal_length  petal_width    species\n",
      "0             5.1          3.5           1.4          0.2     setosa\n",
      "1             4.9          3.0           1.4          0.2     setosa\n",
      "2             4.7          3.2           1.3          0.2     setosa\n",
      "3             4.6          3.1           1.5          0.2     setosa\n",
      "4             5.0          3.6           1.4          0.2     setosa\n",
      "..            ...          ...           ...          ...        ...\n",
      "145           6.7          3.0           5.2          2.3  virginica\n",
      "146           6.3          2.5           5.0          1.9  virginica\n",
      "147           6.5          3.0           5.2          2.0  virginica\n",
      "148           6.2          3.4           5.4          2.3  virginica\n",
      "149           5.9          3.0           5.1          1.8  virginica\n",
      "\n",
      "[150 rows x 5 columns]\n"
     ]
    }
   ],
   "source": [
    "print(data)"
   ]
  },
  {
   "cell_type": "code",
   "execution_count": 9,
   "id": "84aeba1c-2378-4f63-b091-237b9285610e",
   "metadata": {},
   "outputs": [
    {
     "name": "stdout",
     "output_type": "stream",
     "text": [
      "<class 'pandas.core.frame.DataFrame'>\n",
      "RangeIndex: 150 entries, 0 to 149\n",
      "Data columns (total 5 columns):\n",
      " #   Column        Non-Null Count  Dtype  \n",
      "---  ------        --------------  -----  \n",
      " 0   sepal_length  150 non-null    float64\n",
      " 1   sepal_width   150 non-null    float64\n",
      " 2   petal_length  150 non-null    float64\n",
      " 3   petal_width   150 non-null    float64\n",
      " 4   species       150 non-null    object \n",
      "dtypes: float64(4), object(1)\n",
      "memory usage: 6.0+ KB\n"
     ]
    }
   ],
   "source": [
    "data.info()"
   ]
  },
  {
   "cell_type": "code",
   "execution_count": 10,
   "id": "57031ac7-aec6-4f4c-909a-6462ce2ab764",
   "metadata": {},
   "outputs": [
    {
     "data": {
      "text/html": [
       "<div>\n",
       "<style scoped>\n",
       "    .dataframe tbody tr th:only-of-type {\n",
       "        vertical-align: middle;\n",
       "    }\n",
       "\n",
       "    .dataframe tbody tr th {\n",
       "        vertical-align: top;\n",
       "    }\n",
       "\n",
       "    .dataframe thead th {\n",
       "        text-align: right;\n",
       "    }\n",
       "</style>\n",
       "<table border=\"1\" class=\"dataframe\">\n",
       "  <thead>\n",
       "    <tr style=\"text-align: right;\">\n",
       "      <th></th>\n",
       "      <th>sepal_length</th>\n",
       "      <th>sepal_width</th>\n",
       "      <th>petal_length</th>\n",
       "      <th>petal_width</th>\n",
       "      <th>species</th>\n",
       "    </tr>\n",
       "  </thead>\n",
       "  <tbody>\n",
       "    <tr>\n",
       "      <th>0</th>\n",
       "      <td>5.1</td>\n",
       "      <td>3.5</td>\n",
       "      <td>1.4</td>\n",
       "      <td>0.2</td>\n",
       "      <td>setosa</td>\n",
       "    </tr>\n",
       "    <tr>\n",
       "      <th>1</th>\n",
       "      <td>4.9</td>\n",
       "      <td>3.0</td>\n",
       "      <td>1.4</td>\n",
       "      <td>0.2</td>\n",
       "      <td>setosa</td>\n",
       "    </tr>\n",
       "    <tr>\n",
       "      <th>2</th>\n",
       "      <td>4.7</td>\n",
       "      <td>3.2</td>\n",
       "      <td>1.3</td>\n",
       "      <td>0.2</td>\n",
       "      <td>setosa</td>\n",
       "    </tr>\n",
       "    <tr>\n",
       "      <th>3</th>\n",
       "      <td>4.6</td>\n",
       "      <td>3.1</td>\n",
       "      <td>1.5</td>\n",
       "      <td>0.2</td>\n",
       "      <td>setosa</td>\n",
       "    </tr>\n",
       "    <tr>\n",
       "      <th>4</th>\n",
       "      <td>5.0</td>\n",
       "      <td>3.6</td>\n",
       "      <td>1.4</td>\n",
       "      <td>0.2</td>\n",
       "      <td>setosa</td>\n",
       "    </tr>\n",
       "  </tbody>\n",
       "</table>\n",
       "</div>"
      ],
      "text/plain": [
       "   sepal_length  sepal_width  petal_length  petal_width species\n",
       "0           5.1          3.5           1.4          0.2  setosa\n",
       "1           4.9          3.0           1.4          0.2  setosa\n",
       "2           4.7          3.2           1.3          0.2  setosa\n",
       "3           4.6          3.1           1.5          0.2  setosa\n",
       "4           5.0          3.6           1.4          0.2  setosa"
      ]
     },
     "execution_count": 10,
     "metadata": {},
     "output_type": "execute_result"
    }
   ],
   "source": [
    "data.head()"
   ]
  },
  {
   "cell_type": "code",
   "execution_count": 11,
   "id": "4d52c994-4215-42e8-b467-69eaa8bfc8ba",
   "metadata": {},
   "outputs": [
    {
     "data": {
      "text/html": [
       "<div>\n",
       "<style scoped>\n",
       "    .dataframe tbody tr th:only-of-type {\n",
       "        vertical-align: middle;\n",
       "    }\n",
       "\n",
       "    .dataframe tbody tr th {\n",
       "        vertical-align: top;\n",
       "    }\n",
       "\n",
       "    .dataframe thead th {\n",
       "        text-align: right;\n",
       "    }\n",
       "</style>\n",
       "<table border=\"1\" class=\"dataframe\">\n",
       "  <thead>\n",
       "    <tr style=\"text-align: right;\">\n",
       "      <th></th>\n",
       "      <th>sepal_length</th>\n",
       "      <th>sepal_width</th>\n",
       "      <th>petal_length</th>\n",
       "      <th>petal_width</th>\n",
       "      <th>species</th>\n",
       "    </tr>\n",
       "  </thead>\n",
       "  <tbody>\n",
       "    <tr>\n",
       "      <th>145</th>\n",
       "      <td>6.7</td>\n",
       "      <td>3.0</td>\n",
       "      <td>5.2</td>\n",
       "      <td>2.3</td>\n",
       "      <td>virginica</td>\n",
       "    </tr>\n",
       "    <tr>\n",
       "      <th>146</th>\n",
       "      <td>6.3</td>\n",
       "      <td>2.5</td>\n",
       "      <td>5.0</td>\n",
       "      <td>1.9</td>\n",
       "      <td>virginica</td>\n",
       "    </tr>\n",
       "    <tr>\n",
       "      <th>147</th>\n",
       "      <td>6.5</td>\n",
       "      <td>3.0</td>\n",
       "      <td>5.2</td>\n",
       "      <td>2.0</td>\n",
       "      <td>virginica</td>\n",
       "    </tr>\n",
       "    <tr>\n",
       "      <th>148</th>\n",
       "      <td>6.2</td>\n",
       "      <td>3.4</td>\n",
       "      <td>5.4</td>\n",
       "      <td>2.3</td>\n",
       "      <td>virginica</td>\n",
       "    </tr>\n",
       "    <tr>\n",
       "      <th>149</th>\n",
       "      <td>5.9</td>\n",
       "      <td>3.0</td>\n",
       "      <td>5.1</td>\n",
       "      <td>1.8</td>\n",
       "      <td>virginica</td>\n",
       "    </tr>\n",
       "  </tbody>\n",
       "</table>\n",
       "</div>"
      ],
      "text/plain": [
       "     sepal_length  sepal_width  petal_length  petal_width    species\n",
       "145           6.7          3.0           5.2          2.3  virginica\n",
       "146           6.3          2.5           5.0          1.9  virginica\n",
       "147           6.5          3.0           5.2          2.0  virginica\n",
       "148           6.2          3.4           5.4          2.3  virginica\n",
       "149           5.9          3.0           5.1          1.8  virginica"
      ]
     },
     "execution_count": 11,
     "metadata": {},
     "output_type": "execute_result"
    }
   ],
   "source": [
    "data.tail()"
   ]
  },
  {
   "cell_type": "code",
   "execution_count": 12,
   "id": "bfb23fc8-9a6d-4572-a5cf-1431a5d6b46c",
   "metadata": {},
   "outputs": [
    {
     "data": {
      "text/html": [
       "<div>\n",
       "<style scoped>\n",
       "    .dataframe tbody tr th:only-of-type {\n",
       "        vertical-align: middle;\n",
       "    }\n",
       "\n",
       "    .dataframe tbody tr th {\n",
       "        vertical-align: top;\n",
       "    }\n",
       "\n",
       "    .dataframe thead th {\n",
       "        text-align: right;\n",
       "    }\n",
       "</style>\n",
       "<table border=\"1\" class=\"dataframe\">\n",
       "  <thead>\n",
       "    <tr style=\"text-align: right;\">\n",
       "      <th></th>\n",
       "      <th>sepal_length</th>\n",
       "      <th>sepal_width</th>\n",
       "      <th>petal_length</th>\n",
       "      <th>petal_width</th>\n",
       "    </tr>\n",
       "  </thead>\n",
       "  <tbody>\n",
       "    <tr>\n",
       "      <th>count</th>\n",
       "      <td>150.000000</td>\n",
       "      <td>150.000000</td>\n",
       "      <td>150.000000</td>\n",
       "      <td>150.000000</td>\n",
       "    </tr>\n",
       "    <tr>\n",
       "      <th>mean</th>\n",
       "      <td>5.843333</td>\n",
       "      <td>3.057333</td>\n",
       "      <td>3.758000</td>\n",
       "      <td>1.199333</td>\n",
       "    </tr>\n",
       "    <tr>\n",
       "      <th>std</th>\n",
       "      <td>0.828066</td>\n",
       "      <td>0.435866</td>\n",
       "      <td>1.765298</td>\n",
       "      <td>0.762238</td>\n",
       "    </tr>\n",
       "    <tr>\n",
       "      <th>min</th>\n",
       "      <td>4.300000</td>\n",
       "      <td>2.000000</td>\n",
       "      <td>1.000000</td>\n",
       "      <td>0.100000</td>\n",
       "    </tr>\n",
       "    <tr>\n",
       "      <th>25%</th>\n",
       "      <td>5.100000</td>\n",
       "      <td>2.800000</td>\n",
       "      <td>1.600000</td>\n",
       "      <td>0.300000</td>\n",
       "    </tr>\n",
       "    <tr>\n",
       "      <th>50%</th>\n",
       "      <td>5.800000</td>\n",
       "      <td>3.000000</td>\n",
       "      <td>4.350000</td>\n",
       "      <td>1.300000</td>\n",
       "    </tr>\n",
       "    <tr>\n",
       "      <th>75%</th>\n",
       "      <td>6.400000</td>\n",
       "      <td>3.300000</td>\n",
       "      <td>5.100000</td>\n",
       "      <td>1.800000</td>\n",
       "    </tr>\n",
       "    <tr>\n",
       "      <th>max</th>\n",
       "      <td>7.900000</td>\n",
       "      <td>4.400000</td>\n",
       "      <td>6.900000</td>\n",
       "      <td>2.500000</td>\n",
       "    </tr>\n",
       "  </tbody>\n",
       "</table>\n",
       "</div>"
      ],
      "text/plain": [
       "       sepal_length  sepal_width  petal_length  petal_width\n",
       "count    150.000000   150.000000    150.000000   150.000000\n",
       "mean       5.843333     3.057333      3.758000     1.199333\n",
       "std        0.828066     0.435866      1.765298     0.762238\n",
       "min        4.300000     2.000000      1.000000     0.100000\n",
       "25%        5.100000     2.800000      1.600000     0.300000\n",
       "50%        5.800000     3.000000      4.350000     1.300000\n",
       "75%        6.400000     3.300000      5.100000     1.800000\n",
       "max        7.900000     4.400000      6.900000     2.500000"
      ]
     },
     "execution_count": 12,
     "metadata": {},
     "output_type": "execute_result"
    }
   ],
   "source": [
    "data.describe()"
   ]
  },
  {
   "cell_type": "code",
   "execution_count": 13,
   "id": "18f2745a-172d-4eff-a5d0-8d331fc05a7c",
   "metadata": {},
   "outputs": [],
   "source": [
    "top_left_corner_df = data.iloc[:4, :4]"
   ]
  },
  {
   "cell_type": "code",
   "execution_count": 14,
   "id": "f08fa543-2b18-4984-b774-6ec4141a01b3",
   "metadata": {},
   "outputs": [
    {
     "name": "stdout",
     "output_type": "stream",
     "text": [
      "   sepal_length  sepal_width  petal_length  petal_width\n",
      "0           5.1          3.5           1.4          0.2\n",
      "1           4.9          3.0           1.4          0.2\n",
      "2           4.7          3.2           1.3          0.2\n",
      "3           4.6          3.1           1.5          0.2\n"
     ]
    }
   ],
   "source": [
    "print(top_left_corner_df)"
   ]
  },
  {
   "cell_type": "code",
   "execution_count": 15,
   "id": "02894acb-80d7-4dbc-96d2-2ef1c0d7411e",
   "metadata": {},
   "outputs": [
    {
     "data": {
      "text/plain": [
       "',sepal_length,sepal_width,petal_length,petal_width,species\\r\\n0,5.1,3.5,1.4,0.2,setosa\\r\\n1,4.9,3.0,1.4,0.2,setosa\\r\\n2,4.7,3.2,1.3,0.2,setosa\\r\\n3,4.6,3.1,1.5,0.2,setosa\\r\\n4,5.0,3.6,1.4,0.2,setosa\\r\\n5,5.4,3.9,1.7,0.4,setosa\\r\\n6,4.6,3.4,1.4,0.3,setosa\\r\\n7,5.0,3.4,1.5,0.2,setosa\\r\\n8,4.4,2.9,1.4,0.2,setosa\\r\\n9,4.9,3.1,1.5,0.1,setosa\\r\\n10,5.4,3.7,1.5,0.2,setosa\\r\\n11,4.8,3.4,1.6,0.2,setosa\\r\\n12,4.8,3.0,1.4,0.1,setosa\\r\\n13,4.3,3.0,1.1,0.1,setosa\\r\\n14,5.8,4.0,1.2,0.2,setosa\\r\\n15,5.7,4.4,1.5,0.4,setosa\\r\\n16,5.4,3.9,1.3,0.4,setosa\\r\\n17,5.1,3.5,1.4,0.3,setosa\\r\\n18,5.7,3.8,1.7,0.3,setosa\\r\\n19,5.1,3.8,1.5,0.3,setosa\\r\\n20,5.4,3.4,1.7,0.2,setosa\\r\\n21,5.1,3.7,1.5,0.4,setosa\\r\\n22,4.6,3.6,1.0,0.2,setosa\\r\\n23,5.1,3.3,1.7,0.5,setosa\\r\\n24,4.8,3.4,1.9,0.2,setosa\\r\\n25,5.0,3.0,1.6,0.2,setosa\\r\\n26,5.0,3.4,1.6,0.4,setosa\\r\\n27,5.2,3.5,1.5,0.2,setosa\\r\\n28,5.2,3.4,1.4,0.2,setosa\\r\\n29,4.7,3.2,1.6,0.2,setosa\\r\\n30,4.8,3.1,1.6,0.2,setosa\\r\\n31,5.4,3.4,1.5,0.4,setosa\\r\\n32,5.2,4.1,1.5,0.1,setosa\\r\\n33,5.5,4.2,1.4,0.2,setosa\\r\\n34,4.9,3.1,1.5,0.2,setosa\\r\\n35,5.0,3.2,1.2,0.2,setosa\\r\\n36,5.5,3.5,1.3,0.2,setosa\\r\\n37,4.9,3.6,1.4,0.1,setosa\\r\\n38,4.4,3.0,1.3,0.2,setosa\\r\\n39,5.1,3.4,1.5,0.2,setosa\\r\\n40,5.0,3.5,1.3,0.3,setosa\\r\\n41,4.5,2.3,1.3,0.3,setosa\\r\\n42,4.4,3.2,1.3,0.2,setosa\\r\\n43,5.0,3.5,1.6,0.6,setosa\\r\\n44,5.1,3.8,1.9,0.4,setosa\\r\\n45,4.8,3.0,1.4,0.3,setosa\\r\\n46,5.1,3.8,1.6,0.2,setosa\\r\\n47,4.6,3.2,1.4,0.2,setosa\\r\\n48,5.3,3.7,1.5,0.2,setosa\\r\\n49,5.0,3.3,1.4,0.2,setosa\\r\\n50,7.0,3.2,4.7,1.4,versicolor\\r\\n51,6.4,3.2,4.5,1.5,versicolor\\r\\n52,6.9,3.1,4.9,1.5,versicolor\\r\\n53,5.5,2.3,4.0,1.3,versicolor\\r\\n54,6.5,2.8,4.6,1.5,versicolor\\r\\n55,5.7,2.8,4.5,1.3,versicolor\\r\\n56,6.3,3.3,4.7,1.6,versicolor\\r\\n57,4.9,2.4,3.3,1.0,versicolor\\r\\n58,6.6,2.9,4.6,1.3,versicolor\\r\\n59,5.2,2.7,3.9,1.4,versicolor\\r\\n60,5.0,2.0,3.5,1.0,versicolor\\r\\n61,5.9,3.0,4.2,1.5,versicolor\\r\\n62,6.0,2.2,4.0,1.0,versicolor\\r\\n63,6.1,2.9,4.7,1.4,versicolor\\r\\n64,5.6,2.9,3.6,1.3,versicolor\\r\\n65,6.7,3.1,4.4,1.4,versicolor\\r\\n66,5.6,3.0,4.5,1.5,versicolor\\r\\n67,5.8,2.7,4.1,1.0,versicolor\\r\\n68,6.2,2.2,4.5,1.5,versicolor\\r\\n69,5.6,2.5,3.9,1.1,versicolor\\r\\n70,5.9,3.2,4.8,1.8,versicolor\\r\\n71,6.1,2.8,4.0,1.3,versicolor\\r\\n72,6.3,2.5,4.9,1.5,versicolor\\r\\n73,6.1,2.8,4.7,1.2,versicolor\\r\\n74,6.4,2.9,4.3,1.3,versicolor\\r\\n75,6.6,3.0,4.4,1.4,versicolor\\r\\n76,6.8,2.8,4.8,1.4,versicolor\\r\\n77,6.7,3.0,5.0,1.7,versicolor\\r\\n78,6.0,2.9,4.5,1.5,versicolor\\r\\n79,5.7,2.6,3.5,1.0,versicolor\\r\\n80,5.5,2.4,3.8,1.1,versicolor\\r\\n81,5.5,2.4,3.7,1.0,versicolor\\r\\n82,5.8,2.7,3.9,1.2,versicolor\\r\\n83,6.0,2.7,5.1,1.6,versicolor\\r\\n84,5.4,3.0,4.5,1.5,versicolor\\r\\n85,6.0,3.4,4.5,1.6,versicolor\\r\\n86,6.7,3.1,4.7,1.5,versicolor\\r\\n87,6.3,2.3,4.4,1.3,versicolor\\r\\n88,5.6,3.0,4.1,1.3,versicolor\\r\\n89,5.5,2.5,4.0,1.3,versicolor\\r\\n90,5.5,2.6,4.4,1.2,versicolor\\r\\n91,6.1,3.0,4.6,1.4,versicolor\\r\\n92,5.8,2.6,4.0,1.2,versicolor\\r\\n93,5.0,2.3,3.3,1.0,versicolor\\r\\n94,5.6,2.7,4.2,1.3,versicolor\\r\\n95,5.7,3.0,4.2,1.2,versicolor\\r\\n96,5.7,2.9,4.2,1.3,versicolor\\r\\n97,6.2,2.9,4.3,1.3,versicolor\\r\\n98,5.1,2.5,3.0,1.1,versicolor\\r\\n99,5.7,2.8,4.1,1.3,versicolor\\r\\n100,6.3,3.3,6.0,2.5,virginica\\r\\n101,5.8,2.7,5.1,1.9,virginica\\r\\n102,7.1,3.0,5.9,2.1,virginica\\r\\n103,6.3,2.9,5.6,1.8,virginica\\r\\n104,6.5,3.0,5.8,2.2,virginica\\r\\n105,7.6,3.0,6.6,2.1,virginica\\r\\n106,4.9,2.5,4.5,1.7,virginica\\r\\n107,7.3,2.9,6.3,1.8,virginica\\r\\n108,6.7,2.5,5.8,1.8,virginica\\r\\n109,7.2,3.6,6.1,2.5,virginica\\r\\n110,6.5,3.2,5.1,2.0,virginica\\r\\n111,6.4,2.7,5.3,1.9,virginica\\r\\n112,6.8,3.0,5.5,2.1,virginica\\r\\n113,5.7,2.5,5.0,2.0,virginica\\r\\n114,5.8,2.8,5.1,2.4,virginica\\r\\n115,6.4,3.2,5.3,2.3,virginica\\r\\n116,6.5,3.0,5.5,1.8,virginica\\r\\n117,7.7,3.8,6.7,2.2,virginica\\r\\n118,7.7,2.6,6.9,2.3,virginica\\r\\n119,6.0,2.2,5.0,1.5,virginica\\r\\n120,6.9,3.2,5.7,2.3,virginica\\r\\n121,5.6,2.8,4.9,2.0,virginica\\r\\n122,7.7,2.8,6.7,2.0,virginica\\r\\n123,6.3,2.7,4.9,1.8,virginica\\r\\n124,6.7,3.3,5.7,2.1,virginica\\r\\n125,7.2,3.2,6.0,1.8,virginica\\r\\n126,6.2,2.8,4.8,1.8,virginica\\r\\n127,6.1,3.0,4.9,1.8,virginica\\r\\n128,6.4,2.8,5.6,2.1,virginica\\r\\n129,7.2,3.0,5.8,1.6,virginica\\r\\n130,7.4,2.8,6.1,1.9,virginica\\r\\n131,7.9,3.8,6.4,2.0,virginica\\r\\n132,6.4,2.8,5.6,2.2,virginica\\r\\n133,6.3,2.8,5.1,1.5,virginica\\r\\n134,6.1,2.6,5.6,1.4,virginica\\r\\n135,7.7,3.0,6.1,2.3,virginica\\r\\n136,6.3,3.4,5.6,2.4,virginica\\r\\n137,6.4,3.1,5.5,1.8,virginica\\r\\n138,6.0,3.0,4.8,1.8,virginica\\r\\n139,6.9,3.1,5.4,2.1,virginica\\r\\n140,6.7,3.1,5.6,2.4,virginica\\r\\n141,6.9,3.1,5.1,2.3,virginica\\r\\n142,5.8,2.7,5.1,1.9,virginica\\r\\n143,6.8,3.2,5.9,2.3,virginica\\r\\n144,6.7,3.3,5.7,2.5,virginica\\r\\n145,6.7,3.0,5.2,2.3,virginica\\r\\n146,6.3,2.5,5.0,1.9,virginica\\r\\n147,6.5,3.0,5.2,2.0,virginica\\r\\n148,6.2,3.4,5.4,2.3,virginica\\r\\n149,5.9,3.0,5.1,1.8,virginica\\r\\n'"
      ]
     },
     "execution_count": 15,
     "metadata": {},
     "output_type": "execute_result"
    }
   ],
   "source": [
    "data.to_csv()"
   ]
  },
  {
   "cell_type": "code",
   "execution_count": 16,
   "id": "cc4d3e55-ecf3-496e-b310-116aa1582123",
   "metadata": {},
   "outputs": [],
   "source": [
    "ash = data.copy()"
   ]
  },
  {
   "cell_type": "code",
   "execution_count": 17,
   "id": "07f794a4-e7bf-4cc7-b7e4-611306ae6993",
   "metadata": {},
   "outputs": [
    {
     "name": "stdout",
     "output_type": "stream",
     "text": [
      "     sepal_length  sepal_width  petal_length  petal_width    species\n",
      "0             5.1          3.5           1.4          0.2     setosa\n",
      "1             4.9          3.0           1.4          0.2     setosa\n",
      "2             4.7          3.2           1.3          0.2     setosa\n",
      "3             4.6          3.1           1.5          0.2     setosa\n",
      "4             5.0          3.6           1.4          0.2     setosa\n",
      "..            ...          ...           ...          ...        ...\n",
      "145           6.7          3.0           5.2          2.3  virginica\n",
      "146           6.3          2.5           5.0          1.9  virginica\n",
      "147           6.5          3.0           5.2          2.0  virginica\n",
      "148           6.2          3.4           5.4          2.3  virginica\n",
      "149           5.9          3.0           5.1          1.8  virginica\n",
      "\n",
      "[150 rows x 5 columns]\n"
     ]
    }
   ],
   "source": [
    "print(ash)"
   ]
  },
  {
   "cell_type": "code",
   "execution_count": 18,
   "id": "e4cdb03b-70ab-4dab-9955-66a238c9bc3e",
   "metadata": {},
   "outputs": [
    {
     "data": {
      "text/plain": [
       "sepal_length    150\n",
       "sepal_width     150\n",
       "petal_length    150\n",
       "petal_width     150\n",
       "species         150\n",
       "dtype: int64"
      ]
     },
     "execution_count": 18,
     "metadata": {},
     "output_type": "execute_result"
    }
   ],
   "source": [
    "data.count()"
   ]
  },
  {
   "cell_type": "code",
   "execution_count": 19,
   "id": "101f8e43-d74a-4a69-8649-0ca1e3e92134",
   "metadata": {},
   "outputs": [
    {
     "data": {
      "text/html": [
       "<div>\n",
       "<style scoped>\n",
       "    .dataframe tbody tr th:only-of-type {\n",
       "        vertical-align: middle;\n",
       "    }\n",
       "\n",
       "    .dataframe tbody tr th {\n",
       "        vertical-align: top;\n",
       "    }\n",
       "\n",
       "    .dataframe thead th {\n",
       "        text-align: right;\n",
       "    }\n",
       "</style>\n",
       "<table border=\"1\" class=\"dataframe\">\n",
       "  <thead>\n",
       "    <tr style=\"text-align: right;\">\n",
       "      <th></th>\n",
       "      <th>sepal_length</th>\n",
       "      <th>sepal_width</th>\n",
       "      <th>petal_length</th>\n",
       "      <th>petal_width</th>\n",
       "      <th>species</th>\n",
       "    </tr>\n",
       "  </thead>\n",
       "  <tbody>\n",
       "    <tr>\n",
       "      <th>0</th>\n",
       "      <td>5.1</td>\n",
       "      <td>3.5</td>\n",
       "      <td>1.4</td>\n",
       "      <td>0.2</td>\n",
       "      <td>setosa</td>\n",
       "    </tr>\n",
       "    <tr>\n",
       "      <th>1</th>\n",
       "      <td>5.1</td>\n",
       "      <td>3.5</td>\n",
       "      <td>1.4</td>\n",
       "      <td>0.2</td>\n",
       "      <td>setosa</td>\n",
       "    </tr>\n",
       "    <tr>\n",
       "      <th>2</th>\n",
       "      <td>5.1</td>\n",
       "      <td>3.5</td>\n",
       "      <td>1.4</td>\n",
       "      <td>0.2</td>\n",
       "      <td>setosa</td>\n",
       "    </tr>\n",
       "    <tr>\n",
       "      <th>3</th>\n",
       "      <td>5.1</td>\n",
       "      <td>3.5</td>\n",
       "      <td>1.5</td>\n",
       "      <td>0.2</td>\n",
       "      <td>setosa</td>\n",
       "    </tr>\n",
       "    <tr>\n",
       "      <th>4</th>\n",
       "      <td>5.1</td>\n",
       "      <td>3.6</td>\n",
       "      <td>1.5</td>\n",
       "      <td>0.2</td>\n",
       "      <td>setosa</td>\n",
       "    </tr>\n",
       "    <tr>\n",
       "      <th>...</th>\n",
       "      <td>...</td>\n",
       "      <td>...</td>\n",
       "      <td>...</td>\n",
       "      <td>...</td>\n",
       "      <td>...</td>\n",
       "    </tr>\n",
       "    <tr>\n",
       "      <th>145</th>\n",
       "      <td>7.9</td>\n",
       "      <td>4.4</td>\n",
       "      <td>6.9</td>\n",
       "      <td>2.5</td>\n",
       "      <td>virginica</td>\n",
       "    </tr>\n",
       "    <tr>\n",
       "      <th>146</th>\n",
       "      <td>7.9</td>\n",
       "      <td>4.4</td>\n",
       "      <td>6.9</td>\n",
       "      <td>2.5</td>\n",
       "      <td>virginica</td>\n",
       "    </tr>\n",
       "    <tr>\n",
       "      <th>147</th>\n",
       "      <td>7.9</td>\n",
       "      <td>4.4</td>\n",
       "      <td>6.9</td>\n",
       "      <td>2.5</td>\n",
       "      <td>virginica</td>\n",
       "    </tr>\n",
       "    <tr>\n",
       "      <th>148</th>\n",
       "      <td>7.9</td>\n",
       "      <td>4.4</td>\n",
       "      <td>6.9</td>\n",
       "      <td>2.5</td>\n",
       "      <td>virginica</td>\n",
       "    </tr>\n",
       "    <tr>\n",
       "      <th>149</th>\n",
       "      <td>7.9</td>\n",
       "      <td>4.4</td>\n",
       "      <td>6.9</td>\n",
       "      <td>2.5</td>\n",
       "      <td>virginica</td>\n",
       "    </tr>\n",
       "  </tbody>\n",
       "</table>\n",
       "<p>150 rows × 5 columns</p>\n",
       "</div>"
      ],
      "text/plain": [
       "     sepal_length  sepal_width  petal_length  petal_width    species\n",
       "0             5.1          3.5           1.4          0.2     setosa\n",
       "1             5.1          3.5           1.4          0.2     setosa\n",
       "2             5.1          3.5           1.4          0.2     setosa\n",
       "3             5.1          3.5           1.5          0.2     setosa\n",
       "4             5.1          3.6           1.5          0.2     setosa\n",
       "..            ...          ...           ...          ...        ...\n",
       "145           7.9          4.4           6.9          2.5  virginica\n",
       "146           7.9          4.4           6.9          2.5  virginica\n",
       "147           7.9          4.4           6.9          2.5  virginica\n",
       "148           7.9          4.4           6.9          2.5  virginica\n",
       "149           7.9          4.4           6.9          2.5  virginica\n",
       "\n",
       "[150 rows x 5 columns]"
      ]
     },
     "execution_count": 19,
     "metadata": {},
     "output_type": "execute_result"
    }
   ],
   "source": [
    "data.cummax()"
   ]
  },
  {
   "cell_type": "code",
   "execution_count": 20,
   "id": "3f9653a0-4621-4ca7-ac82-336477679b1e",
   "metadata": {},
   "outputs": [
    {
     "data": {
      "text/html": [
       "<div>\n",
       "<style scoped>\n",
       "    .dataframe tbody tr th:only-of-type {\n",
       "        vertical-align: middle;\n",
       "    }\n",
       "\n",
       "    .dataframe tbody tr th {\n",
       "        vertical-align: top;\n",
       "    }\n",
       "\n",
       "    .dataframe thead th {\n",
       "        text-align: right;\n",
       "    }\n",
       "</style>\n",
       "<table border=\"1\" class=\"dataframe\">\n",
       "  <thead>\n",
       "    <tr style=\"text-align: right;\">\n",
       "      <th></th>\n",
       "      <th>sepal_length</th>\n",
       "      <th>sepal_width</th>\n",
       "      <th>petal_length</th>\n",
       "      <th>petal_width</th>\n",
       "      <th>species</th>\n",
       "    </tr>\n",
       "  </thead>\n",
       "  <tbody>\n",
       "    <tr>\n",
       "      <th>0</th>\n",
       "      <td>5.1</td>\n",
       "      <td>3.5</td>\n",
       "      <td>1.4</td>\n",
       "      <td>0.2</td>\n",
       "      <td>setosa</td>\n",
       "    </tr>\n",
       "    <tr>\n",
       "      <th>1</th>\n",
       "      <td>4.9</td>\n",
       "      <td>3.0</td>\n",
       "      <td>1.4</td>\n",
       "      <td>0.2</td>\n",
       "      <td>setosa</td>\n",
       "    </tr>\n",
       "    <tr>\n",
       "      <th>2</th>\n",
       "      <td>4.7</td>\n",
       "      <td>3.0</td>\n",
       "      <td>1.3</td>\n",
       "      <td>0.2</td>\n",
       "      <td>setosa</td>\n",
       "    </tr>\n",
       "    <tr>\n",
       "      <th>3</th>\n",
       "      <td>4.6</td>\n",
       "      <td>3.0</td>\n",
       "      <td>1.3</td>\n",
       "      <td>0.2</td>\n",
       "      <td>setosa</td>\n",
       "    </tr>\n",
       "    <tr>\n",
       "      <th>4</th>\n",
       "      <td>4.6</td>\n",
       "      <td>3.0</td>\n",
       "      <td>1.3</td>\n",
       "      <td>0.2</td>\n",
       "      <td>setosa</td>\n",
       "    </tr>\n",
       "    <tr>\n",
       "      <th>...</th>\n",
       "      <td>...</td>\n",
       "      <td>...</td>\n",
       "      <td>...</td>\n",
       "      <td>...</td>\n",
       "      <td>...</td>\n",
       "    </tr>\n",
       "    <tr>\n",
       "      <th>145</th>\n",
       "      <td>4.3</td>\n",
       "      <td>2.0</td>\n",
       "      <td>1.0</td>\n",
       "      <td>0.1</td>\n",
       "      <td>setosa</td>\n",
       "    </tr>\n",
       "    <tr>\n",
       "      <th>146</th>\n",
       "      <td>4.3</td>\n",
       "      <td>2.0</td>\n",
       "      <td>1.0</td>\n",
       "      <td>0.1</td>\n",
       "      <td>setosa</td>\n",
       "    </tr>\n",
       "    <tr>\n",
       "      <th>147</th>\n",
       "      <td>4.3</td>\n",
       "      <td>2.0</td>\n",
       "      <td>1.0</td>\n",
       "      <td>0.1</td>\n",
       "      <td>setosa</td>\n",
       "    </tr>\n",
       "    <tr>\n",
       "      <th>148</th>\n",
       "      <td>4.3</td>\n",
       "      <td>2.0</td>\n",
       "      <td>1.0</td>\n",
       "      <td>0.1</td>\n",
       "      <td>setosa</td>\n",
       "    </tr>\n",
       "    <tr>\n",
       "      <th>149</th>\n",
       "      <td>4.3</td>\n",
       "      <td>2.0</td>\n",
       "      <td>1.0</td>\n",
       "      <td>0.1</td>\n",
       "      <td>setosa</td>\n",
       "    </tr>\n",
       "  </tbody>\n",
       "</table>\n",
       "<p>150 rows × 5 columns</p>\n",
       "</div>"
      ],
      "text/plain": [
       "     sepal_length  sepal_width  petal_length  petal_width species\n",
       "0             5.1          3.5           1.4          0.2  setosa\n",
       "1             4.9          3.0           1.4          0.2  setosa\n",
       "2             4.7          3.0           1.3          0.2  setosa\n",
       "3             4.6          3.0           1.3          0.2  setosa\n",
       "4             4.6          3.0           1.3          0.2  setosa\n",
       "..            ...          ...           ...          ...     ...\n",
       "145           4.3          2.0           1.0          0.1  setosa\n",
       "146           4.3          2.0           1.0          0.1  setosa\n",
       "147           4.3          2.0           1.0          0.1  setosa\n",
       "148           4.3          2.0           1.0          0.1  setosa\n",
       "149           4.3          2.0           1.0          0.1  setosa\n",
       "\n",
       "[150 rows x 5 columns]"
      ]
     },
     "execution_count": 20,
     "metadata": {},
     "output_type": "execute_result"
    }
   ],
   "source": [
    "data.cummin()"
   ]
  },
  {
   "cell_type": "code",
   "execution_count": 21,
   "id": "9ecaeb25-73ce-4dcf-9d57-ffdca750a284",
   "metadata": {},
   "outputs": [
    {
     "data": {
      "text/html": [
       "<div>\n",
       "<style scoped>\n",
       "    .dataframe tbody tr th:only-of-type {\n",
       "        vertical-align: middle;\n",
       "    }\n",
       "\n",
       "    .dataframe tbody tr th {\n",
       "        vertical-align: top;\n",
       "    }\n",
       "\n",
       "    .dataframe thead th {\n",
       "        text-align: right;\n",
       "    }\n",
       "</style>\n",
       "<table border=\"1\" class=\"dataframe\">\n",
       "  <thead>\n",
       "    <tr style=\"text-align: right;\">\n",
       "      <th></th>\n",
       "      <th>sepal_length</th>\n",
       "      <th>sepal_width</th>\n",
       "      <th>petal_length</th>\n",
       "      <th>petal_width</th>\n",
       "      <th>species</th>\n",
       "    </tr>\n",
       "  </thead>\n",
       "  <tbody>\n",
       "    <tr>\n",
       "      <th>0</th>\n",
       "      <td>5.1</td>\n",
       "      <td>3.5</td>\n",
       "      <td>1.4</td>\n",
       "      <td>0.2</td>\n",
       "      <td>setosa</td>\n",
       "    </tr>\n",
       "    <tr>\n",
       "      <th>1</th>\n",
       "      <td>4.9</td>\n",
       "      <td>3.0</td>\n",
       "      <td>1.4</td>\n",
       "      <td>0.2</td>\n",
       "      <td>setosa</td>\n",
       "    </tr>\n",
       "    <tr>\n",
       "      <th>2</th>\n",
       "      <td>4.7</td>\n",
       "      <td>3.2</td>\n",
       "      <td>1.3</td>\n",
       "      <td>0.2</td>\n",
       "      <td>setosa</td>\n",
       "    </tr>\n",
       "    <tr>\n",
       "      <th>3</th>\n",
       "      <td>4.6</td>\n",
       "      <td>3.1</td>\n",
       "      <td>1.5</td>\n",
       "      <td>0.2</td>\n",
       "      <td>setosa</td>\n",
       "    </tr>\n",
       "    <tr>\n",
       "      <th>4</th>\n",
       "      <td>5.0</td>\n",
       "      <td>3.6</td>\n",
       "      <td>1.4</td>\n",
       "      <td>0.2</td>\n",
       "      <td>setosa</td>\n",
       "    </tr>\n",
       "    <tr>\n",
       "      <th>...</th>\n",
       "      <td>...</td>\n",
       "      <td>...</td>\n",
       "      <td>...</td>\n",
       "      <td>...</td>\n",
       "      <td>...</td>\n",
       "    </tr>\n",
       "    <tr>\n",
       "      <th>145</th>\n",
       "      <td>6.7</td>\n",
       "      <td>3.0</td>\n",
       "      <td>5.2</td>\n",
       "      <td>2.3</td>\n",
       "      <td>virginica</td>\n",
       "    </tr>\n",
       "    <tr>\n",
       "      <th>146</th>\n",
       "      <td>6.3</td>\n",
       "      <td>2.5</td>\n",
       "      <td>5.0</td>\n",
       "      <td>1.9</td>\n",
       "      <td>virginica</td>\n",
       "    </tr>\n",
       "    <tr>\n",
       "      <th>147</th>\n",
       "      <td>6.5</td>\n",
       "      <td>3.0</td>\n",
       "      <td>5.2</td>\n",
       "      <td>2.0</td>\n",
       "      <td>virginica</td>\n",
       "    </tr>\n",
       "    <tr>\n",
       "      <th>148</th>\n",
       "      <td>6.2</td>\n",
       "      <td>3.4</td>\n",
       "      <td>5.4</td>\n",
       "      <td>2.3</td>\n",
       "      <td>virginica</td>\n",
       "    </tr>\n",
       "    <tr>\n",
       "      <th>149</th>\n",
       "      <td>5.9</td>\n",
       "      <td>3.0</td>\n",
       "      <td>5.1</td>\n",
       "      <td>1.8</td>\n",
       "      <td>virginica</td>\n",
       "    </tr>\n",
       "  </tbody>\n",
       "</table>\n",
       "<p>150 rows × 5 columns</p>\n",
       "</div>"
      ],
      "text/plain": [
       "     sepal_length  sepal_width  petal_length  petal_width    species\n",
       "0             5.1          3.5           1.4          0.2     setosa\n",
       "1             4.9          3.0           1.4          0.2     setosa\n",
       "2             4.7          3.2           1.3          0.2     setosa\n",
       "3             4.6          3.1           1.5          0.2     setosa\n",
       "4             5.0          3.6           1.4          0.2     setosa\n",
       "..            ...          ...           ...          ...        ...\n",
       "145           6.7          3.0           5.2          2.3  virginica\n",
       "146           6.3          2.5           5.0          1.9  virginica\n",
       "147           6.5          3.0           5.2          2.0  virginica\n",
       "148           6.2          3.4           5.4          2.3  virginica\n",
       "149           5.9          3.0           5.1          1.8  virginica\n",
       "\n",
       "[150 rows x 5 columns]"
      ]
     },
     "execution_count": 21,
     "metadata": {},
     "output_type": "execute_result"
    }
   ],
   "source": [
    "data.dropna()"
   ]
  },
  {
   "cell_type": "code",
   "execution_count": 22,
   "id": "59559544-0c72-40a9-aa5a-e7a830d823d9",
   "metadata": {},
   "outputs": [
    {
     "data": {
      "text/plain": [
       "sepal_length    True\n",
       "sepal_width     True\n",
       "petal_length    True\n",
       "petal_width     True\n",
       "species         True\n",
       "dtype: bool"
      ]
     },
     "execution_count": 22,
     "metadata": {},
     "output_type": "execute_result"
    }
   ],
   "source": [
    "data.any()"
   ]
  },
  {
   "cell_type": "code",
   "execution_count": 23,
   "id": "5aad2f32-d3aa-4f22-9a08-46752c1330d7",
   "metadata": {},
   "outputs": [],
   "source": [
    "data.get(40)"
   ]
  },
  {
   "cell_type": "code",
   "execution_count": 25,
   "id": "2019772d-1d0f-44b7-b949-7695341cb02e",
   "metadata": {},
   "outputs": [],
   "source": [
    "ass = data.get(40)"
   ]
  },
  {
   "cell_type": "code",
   "execution_count": 26,
   "id": "a4b841e6-f3e4-4631-94d6-d088d60972c1",
   "metadata": {},
   "outputs": [
    {
     "name": "stdout",
     "output_type": "stream",
     "text": [
      "None\n"
     ]
    }
   ],
   "source": [
    "print(ass)"
   ]
  },
  {
   "cell_type": "code",
   "execution_count": null,
   "id": "06bec457-fad3-4744-833d-c7a133e13602",
   "metadata": {},
   "outputs": [],
   "source": []
  }
 ],
 "metadata": {
  "kernelspec": {
   "display_name": "Python 3 (ipykernel)",
   "language": "python",
   "name": "python3"
  },
  "language_info": {
   "codemirror_mode": {
    "name": "ipython",
    "version": 3
   },
   "file_extension": ".py",
   "mimetype": "text/x-python",
   "name": "python",
   "nbconvert_exporter": "python",
   "pygments_lexer": "ipython3",
   "version": "3.12.7"
  }
 },
 "nbformat": 4,
 "nbformat_minor": 5
}
